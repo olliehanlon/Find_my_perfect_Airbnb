{
 "cells": [
  {
   "cell_type": "markdown",
   "id": "644acc0a-80e0-49c4-ad24-b075cd97b951",
   "metadata": {
    "tags": []
   },
   "source": [
    "\n",
    "<p style=\"text-align:center;\">\n",
    "<img src=\"https://f9c22e342c4dee41182f-95e42b8de37d1835f9756e789fbdcf70.ssl.cf1.rackcdn.com/86486757_00010355_1443106466-playlist.png\"\n",
    "     alt=\"DigitalFuturesLogo\"\n",
    "     style=\"float: center; margin-right: 10px;\" />\n",
    "</p>\n"
   ]
  },
  {
   "cell_type": "markdown",
   "id": "0c16e64b-3cfb-44b4-95a2-0be303f1ead9",
   "metadata": {},
   "source": [
    "# Find my perfect Airbnb"
   ]
  },
  {
   "cell_type": "markdown",
   "id": "6209e42a-96bb-450f-99b5-f49dea074546",
   "metadata": {},
   "source": [
    "----\n",
    "### Project Overview\n",
    "\n",
    "##### A data analytics project which creates an advanced filtering function to make finding your perfect Airbnb much easier. Motivation for this project stems from the often overwhelming number of Airbnb options, even after traditional filters such as price and number of beds. I wanted to streamline a users Airbnb search by analysing themes within the listing descriptions and reviews of Airbnbs. My final function allows the user to select Airbnb options based on features such as cozy, spacious and quiet.\n",
    "\n",
    "##### This project uses natural language processing and unsupervised learning models on a large data set from kaggle, containing Airbnb listings/reviews in Amsterdam. Methods used include K-means clustering and Topic Modelling."
   ]
  },
  {
   "cell_type": "markdown",
   "id": "f35d4993-b3db-44b5-afb2-749b4c4aec7d",
   "metadata": {
    "tags": []
   },
   "source": [
    "----\n",
    "# Table of Contents\n",
    "----\n",
    "1. Load Data Sets\n",
    "2. Data Checks\n",
    "  - 2.1 Listings Data Checks\n",
    "  - 2.2 Reviews Data Checks\n",
    "3. Natural Language Processing \n",
    "  - 3.1 Natural Language Processing of Listings Data Set\n",
    "  - 3.2 Natural Language Processing of Reviews Data Set\n",
    "4. Exploring Key Trends\n",
    "5. Simplistics Model\n",
    "  - 5.1 Divide Listings into Categories\n",
    "  - 5.2 Divide Reviews into Categories\n",
    "6. Topic Modelling\n",
    "7. K-means Clustering\n",
    "8. Advanced Filter"
   ]
  },
  {
   "cell_type": "markdown",
   "id": "f944e85b-2c4e-46d0-9879-e93c78acd4a8",
   "metadata": {},
   "source": [
    "## Import Packages\n"
   ]
  },
  {
   "cell_type": "code",
   "execution_count": 5,
   "id": "b0c242ee-1df9-42e0-8111-1a34a92662fa",
   "metadata": {
    "tags": []
   },
   "outputs": [],
   "source": [
    "import pandas as pd\n",
    "import numpy as np\n",
    "\n",
    "import os\n",
    "import itertools\n",
    "from collections import Counter\n",
    "import re\n",
    "import string\n",
    "\n",
    "#NLP\n",
    "import nltk \n",
    "from nltk.corpus import stopwords \n",
    "from nltk.tokenize import word_tokenize\n",
    "from nltk.stem import WordNetLemmatizer\n",
    "from nltk.stem.porter import PorterStemmer\n",
    "from nltk.stem.lancaster import LancasterStemmer\n",
    "from nltk.stem.snowball import SnowballStemmer\n",
    "from nltk.corpus import opinion_lexicon\n",
    "#Modelling\n",
    "from sklearn.feature_extraction.text import CountVectorizer\n",
    "from sklearn.linear_model import LogisticRegression\n",
    "\n",
    "from wordcloud import WordCloud\n",
    "import matplotlib.pyplot as plt\n",
    "\n",
    "from collections import Counter\n",
    "\n",
    "from gensim import corpora, models\n",
    "import pyLDAvis ## Purely a visualisation library\n",
    "import pyLDAvis.gensim_models as gensimvis\n",
    "from pprint import pprint\n",
    "\n",
    "from sklearn.feature_extraction.text import TfidfVectorizer\n",
    "from sklearn.decomposition import TruncatedSVD\n",
    "from sklearn.cluster import KMeans\n",
    "from sklearn.decomposition import PCA\n",
    "\n",
    "from PIL import Image\n",
    "\n",
    "from IPython.core.display import HTML"
   ]
  },
  {
   "cell_type": "code",
   "execution_count": 6,
   "id": "52bc9e54-0a4b-49c1-802d-e2302c7a0746",
   "metadata": {
    "tags": []
   },
   "outputs": [
    {
     "name": "stderr",
     "output_type": "stream",
     "text": [
      "[nltk_data] Downloading package stopwords to\n",
      "[nltk_data]     C:\\Users\\ollie\\AppData\\Roaming\\nltk_data...\n",
      "[nltk_data]   Package stopwords is already up-to-date!\n",
      "[nltk_data] Downloading package punkt to\n",
      "[nltk_data]     C:\\Users\\ollie\\AppData\\Roaming\\nltk_data...\n",
      "[nltk_data]   Package punkt is already up-to-date!\n",
      "[nltk_data] Downloading package wordnet to\n",
      "[nltk_data]     C:\\Users\\ollie\\AppData\\Roaming\\nltk_data...\n",
      "[nltk_data]   Package wordnet is already up-to-date!\n",
      "[nltk_data] Downloading package omw-1.4 to\n",
      "[nltk_data]     C:\\Users\\ollie\\AppData\\Roaming\\nltk_data...\n",
      "[nltk_data]   Package omw-1.4 is already up-to-date!\n",
      "[nltk_data] Error loading afinn: Package 'afinn' not found in index\n",
      "[nltk_data] Downloading package opinion_lexicon to\n",
      "[nltk_data]     C:\\Users\\ollie\\AppData\\Roaming\\nltk_data...\n",
      "[nltk_data]   Package opinion_lexicon is already up-to-date!\n"
     ]
    },
    {
     "data": {
      "text/plain": [
       "True"
      ]
     },
     "execution_count": 6,
     "metadata": {},
     "output_type": "execute_result"
    }
   ],
   "source": [
    "nltk.download('stopwords')\n",
    "nltk.download('punkt')\n",
    "nltk.download('wordnet')\n",
    "nltk.download('omw-1.4')\n",
    "nltk.download('afinn')\n",
    "nltk.download('opinion_lexicon')"
   ]
  },
  {
   "cell_type": "markdown",
   "id": "67799cd9-ea20-4d0e-acda-1cdbc6693425",
   "metadata": {},
   "source": [
    "## 1. Load Data Sets"
   ]
  },
  {
   "cell_type": "code",
   "execution_count": 7,
   "id": "853e28ac-30a8-462d-b098-7d01a03e3ef3",
   "metadata": {
    "tags": []
   },
   "outputs": [],
   "source": [
    "pd.set_option('display.max_columns', None) # view all columns"
   ]
  },
  {
   "cell_type": "code",
   "execution_count": 8,
   "id": "71f1c545-959e-4452-bd8d-e6dda5df6daa",
   "metadata": {
    "tags": []
   },
   "outputs": [],
   "source": [
    "reviews = pd.read_csv('reviews_details.csv') # read in reviews data set"
   ]
  },
  {
   "cell_type": "code",
   "execution_count": 9,
   "id": "135ca062-16d1-4711-b65c-0dae3a1003f7",
   "metadata": {
    "tags": []
   },
   "outputs": [
    {
     "name": "stderr",
     "output_type": "stream",
     "text": [
      "C:\\Users\\ollie\\AppData\\Local\\Temp\\ipykernel_15016\\1615099966.py:1: DtypeWarning: Columns (87) have mixed types. Specify dtype option on import or set low_memory=False.\n",
      "  listings = pd.read_csv(\"listings_details.csv\") # read in listings data set\n"
     ]
    }
   ],
   "source": [
    "listings = pd.read_csv(\"listings_details.csv\") # read in listings data set\n"
   ]
  },
  {
   "cell_type": "markdown",
   "id": "c37319fd-762e-40be-bc18-98bf0fbbdf3c",
   "metadata": {},
   "source": [
    "## 2. Data Checks"
   ]
  },
  {
   "cell_type": "markdown",
   "id": "c4766402-434f-4189-b688-500497aeaa5c",
   "metadata": {},
   "source": [
    "## 2.1 Listings Data Checks"
   ]
  },
  {
   "cell_type": "code",
   "execution_count": 10,
   "id": "04a29ca3-875b-4f44-91b0-a07283969852",
   "metadata": {
    "tags": []
   },
   "outputs": [
    {
     "data": {
      "text/plain": [
       "(20030, 96)"
      ]
     },
     "execution_count": 10,
     "metadata": {},
     "output_type": "execute_result"
    }
   ],
   "source": [
    "listings.shape # check shape of data set"
   ]
  },
  {
   "cell_type": "code",
   "execution_count": 11,
   "id": "a02a5250-3bdf-4b47-8292-af13e239a704",
   "metadata": {
    "tags": []
   },
   "outputs": [
    {
     "data": {
      "text/html": [
       "<div>\n",
       "<style scoped>\n",
       "    .dataframe tbody tr th:only-of-type {\n",
       "        vertical-align: middle;\n",
       "    }\n",
       "\n",
       "    .dataframe tbody tr th {\n",
       "        vertical-align: top;\n",
       "    }\n",
       "\n",
       "    .dataframe thead th {\n",
       "        text-align: right;\n",
       "    }\n",
       "</style>\n",
       "<table border=\"1\" class=\"dataframe\">\n",
       "  <thead>\n",
       "    <tr style=\"text-align: right;\">\n",
       "      <th></th>\n",
       "      <th>id</th>\n",
       "      <th>listing_url</th>\n",
       "      <th>scrape_id</th>\n",
       "      <th>last_scraped</th>\n",
       "      <th>name</th>\n",
       "      <th>summary</th>\n",
       "      <th>space</th>\n",
       "      <th>description</th>\n",
       "      <th>experiences_offered</th>\n",
       "      <th>neighborhood_overview</th>\n",
       "      <th>notes</th>\n",
       "      <th>transit</th>\n",
       "      <th>access</th>\n",
       "      <th>interaction</th>\n",
       "      <th>house_rules</th>\n",
       "      <th>thumbnail_url</th>\n",
       "      <th>medium_url</th>\n",
       "      <th>picture_url</th>\n",
       "      <th>xl_picture_url</th>\n",
       "      <th>host_id</th>\n",
       "      <th>host_url</th>\n",
       "      <th>host_name</th>\n",
       "      <th>host_since</th>\n",
       "      <th>host_location</th>\n",
       "      <th>host_about</th>\n",
       "      <th>host_response_time</th>\n",
       "      <th>host_response_rate</th>\n",
       "      <th>host_acceptance_rate</th>\n",
       "      <th>host_is_superhost</th>\n",
       "      <th>host_thumbnail_url</th>\n",
       "      <th>host_picture_url</th>\n",
       "      <th>host_neighbourhood</th>\n",
       "      <th>host_listings_count</th>\n",
       "      <th>host_total_listings_count</th>\n",
       "      <th>host_verifications</th>\n",
       "      <th>host_has_profile_pic</th>\n",
       "      <th>host_identity_verified</th>\n",
       "      <th>street</th>\n",
       "      <th>neighbourhood</th>\n",
       "      <th>neighbourhood_cleansed</th>\n",
       "      <th>neighbourhood_group_cleansed</th>\n",
       "      <th>city</th>\n",
       "      <th>state</th>\n",
       "      <th>zipcode</th>\n",
       "      <th>market</th>\n",
       "      <th>smart_location</th>\n",
       "      <th>country_code</th>\n",
       "      <th>country</th>\n",
       "      <th>latitude</th>\n",
       "      <th>longitude</th>\n",
       "      <th>is_location_exact</th>\n",
       "      <th>property_type</th>\n",
       "      <th>room_type</th>\n",
       "      <th>accommodates</th>\n",
       "      <th>bathrooms</th>\n",
       "      <th>bedrooms</th>\n",
       "      <th>beds</th>\n",
       "      <th>bed_type</th>\n",
       "      <th>amenities</th>\n",
       "      <th>square_feet</th>\n",
       "      <th>price</th>\n",
       "      <th>weekly_price</th>\n",
       "      <th>monthly_price</th>\n",
       "      <th>security_deposit</th>\n",
       "      <th>cleaning_fee</th>\n",
       "      <th>guests_included</th>\n",
       "      <th>extra_people</th>\n",
       "      <th>minimum_nights</th>\n",
       "      <th>maximum_nights</th>\n",
       "      <th>calendar_updated</th>\n",
       "      <th>has_availability</th>\n",
       "      <th>availability_30</th>\n",
       "      <th>availability_60</th>\n",
       "      <th>availability_90</th>\n",
       "      <th>availability_365</th>\n",
       "      <th>calendar_last_scraped</th>\n",
       "      <th>number_of_reviews</th>\n",
       "      <th>first_review</th>\n",
       "      <th>last_review</th>\n",
       "      <th>review_scores_rating</th>\n",
       "      <th>review_scores_accuracy</th>\n",
       "      <th>review_scores_cleanliness</th>\n",
       "      <th>review_scores_checkin</th>\n",
       "      <th>review_scores_communication</th>\n",
       "      <th>review_scores_location</th>\n",
       "      <th>review_scores_value</th>\n",
       "      <th>requires_license</th>\n",
       "      <th>license</th>\n",
       "      <th>jurisdiction_names</th>\n",
       "      <th>instant_bookable</th>\n",
       "      <th>is_business_travel_ready</th>\n",
       "      <th>cancellation_policy</th>\n",
       "      <th>require_guest_profile_picture</th>\n",
       "      <th>require_guest_phone_verification</th>\n",
       "      <th>calculated_host_listings_count</th>\n",
       "      <th>reviews_per_month</th>\n",
       "    </tr>\n",
       "  </thead>\n",
       "  <tbody>\n",
       "    <tr>\n",
       "      <th>0</th>\n",
       "      <td>2818</td>\n",
       "      <td>https://www.airbnb.com/rooms/2818</td>\n",
       "      <td>20181206172549</td>\n",
       "      <td>2018-12-06</td>\n",
       "      <td>Quiet Garden View Room &amp; Super Fast WiFi</td>\n",
       "      <td>Quiet Garden View Room &amp; Super Fast WiFi</td>\n",
       "      <td>I'm renting a bedroom (room overlooking the ga...</td>\n",
       "      <td>Quiet Garden View Room &amp; Super Fast WiFi I'm r...</td>\n",
       "      <td>none</td>\n",
       "      <td>Indische Buurt (\"Indies Neighborhood\") is a ne...</td>\n",
       "      <td>From week 38 to week 47 maintenance work to th...</td>\n",
       "      <td>The neighbourhood is well served by 24 hours p...</td>\n",
       "      <td>NaN</td>\n",
       "      <td>NaN</td>\n",
       "      <td>Please: - Leave your shoes in the entrance  - ...</td>\n",
       "      <td>NaN</td>\n",
       "      <td>NaN</td>\n",
       "      <td>https://a0.muscache.com/im/pictures/10272854/8...</td>\n",
       "      <td>NaN</td>\n",
       "      <td>3159</td>\n",
       "      <td>https://www.airbnb.com/users/show/3159</td>\n",
       "      <td>Daniel</td>\n",
       "      <td>2008-09-24</td>\n",
       "      <td>Amsterdam, Noord-Holland, The Netherlands</td>\n",
       "      <td>Upon arriving in Amsterdam, one can imagine as...</td>\n",
       "      <td>within an hour</td>\n",
       "      <td>100%</td>\n",
       "      <td>NaN</td>\n",
       "      <td>t</td>\n",
       "      <td>https://a0.muscache.com/im/users/3159/profile_...</td>\n",
       "      <td>https://a0.muscache.com/im/users/3159/profile_...</td>\n",
       "      <td>Indische Buurt</td>\n",
       "      <td>1.0</td>\n",
       "      <td>1.0</td>\n",
       "      <td>['email', 'phone', 'reviews', 'jumio', 'offlin...</td>\n",
       "      <td>t</td>\n",
       "      <td>f</td>\n",
       "      <td>Amsterdam, North Holland, Netherlands</td>\n",
       "      <td>Indische Buurt</td>\n",
       "      <td>Oostelijk Havengebied - Indische Buurt</td>\n",
       "      <td>NaN</td>\n",
       "      <td>Amsterdam</td>\n",
       "      <td>North Holland</td>\n",
       "      <td>NaN</td>\n",
       "      <td>Amsterdam</td>\n",
       "      <td>Amsterdam, Netherlands</td>\n",
       "      <td>NL</td>\n",
       "      <td>Netherlands</td>\n",
       "      <td>52.365755</td>\n",
       "      <td>4.941419</td>\n",
       "      <td>f</td>\n",
       "      <td>Apartment</td>\n",
       "      <td>Private room</td>\n",
       "      <td>2</td>\n",
       "      <td>1.5</td>\n",
       "      <td>1.0</td>\n",
       "      <td>2.0</td>\n",
       "      <td>Real Bed</td>\n",
       "      <td>{Internet,Wifi,\"Paid parking off premises\",\"Bu...</td>\n",
       "      <td>NaN</td>\n",
       "      <td>$59.00</td>\n",
       "      <td>NaN</td>\n",
       "      <td>$1,500.00</td>\n",
       "      <td>$100.00</td>\n",
       "      <td>$50.00</td>\n",
       "      <td>1</td>\n",
       "      <td>$20.00</td>\n",
       "      <td>3</td>\n",
       "      <td>15</td>\n",
       "      <td>today</td>\n",
       "      <td>t</td>\n",
       "      <td>17</td>\n",
       "      <td>44</td>\n",
       "      <td>44</td>\n",
       "      <td>44</td>\n",
       "      <td>2018-12-06</td>\n",
       "      <td>248</td>\n",
       "      <td>2009-03-30</td>\n",
       "      <td>2018-11-28</td>\n",
       "      <td>97.0</td>\n",
       "      <td>10.0</td>\n",
       "      <td>10.0</td>\n",
       "      <td>10.0</td>\n",
       "      <td>10.0</td>\n",
       "      <td>9.0</td>\n",
       "      <td>10.0</td>\n",
       "      <td>f</td>\n",
       "      <td>NaN</td>\n",
       "      <td>{Amsterdam}</td>\n",
       "      <td>t</td>\n",
       "      <td>f</td>\n",
       "      <td>strict_14_with_grace_period</td>\n",
       "      <td>f</td>\n",
       "      <td>f</td>\n",
       "      <td>1</td>\n",
       "      <td>2.10</td>\n",
       "    </tr>\n",
       "    <tr>\n",
       "      <th>1</th>\n",
       "      <td>3209</td>\n",
       "      <td>https://www.airbnb.com/rooms/3209</td>\n",
       "      <td>20181206172549</td>\n",
       "      <td>2018-12-06</td>\n",
       "      <td>Quiet apt near center, great view</td>\n",
       "      <td>You will love our spacious (90 m2) bright apar...</td>\n",
       "      <td>Our apartment has lots of light, a balcony and...</td>\n",
       "      <td>You will love our spacious (90 m2) bright apar...</td>\n",
       "      <td>none</td>\n",
       "      <td>Welcome to the Spaarndammerbuurt! From the beg...</td>\n",
       "      <td>NaN</td>\n",
       "      <td>From Central Station, walk towards the busstop...</td>\n",
       "      <td>You will have the entire house to yourself.</td>\n",
       "      <td>We will meet you in person for check in whenev...</td>\n",
       "      <td>Our house comes with our very sweet, but old (...</td>\n",
       "      <td>NaN</td>\n",
       "      <td>NaN</td>\n",
       "      <td>https://a0.muscache.com/im/pictures/88955424/4...</td>\n",
       "      <td>NaN</td>\n",
       "      <td>3806</td>\n",
       "      <td>https://www.airbnb.com/users/show/3806</td>\n",
       "      <td>Maartje</td>\n",
       "      <td>2008-10-24</td>\n",
       "      <td>Amsterdam, Noord-Holland, The Netherlands</td>\n",
       "      <td>I am a freelance radio producer and journalist...</td>\n",
       "      <td>within an hour</td>\n",
       "      <td>100%</td>\n",
       "      <td>NaN</td>\n",
       "      <td>f</td>\n",
       "      <td>https://a0.muscache.com/im/users/3806/profile_...</td>\n",
       "      <td>https://a0.muscache.com/im/users/3806/profile_...</td>\n",
       "      <td>Spaarndammer en Zeeheldenbuurt</td>\n",
       "      <td>1.0</td>\n",
       "      <td>1.0</td>\n",
       "      <td>['email', 'phone', 'reviews', 'jumio']</td>\n",
       "      <td>t</td>\n",
       "      <td>t</td>\n",
       "      <td>Amsterdam, Noord-Holland, Netherlands</td>\n",
       "      <td>Spaarndammer en Zeeheldenbuurt</td>\n",
       "      <td>Westerpark</td>\n",
       "      <td>NaN</td>\n",
       "      <td>Amsterdam</td>\n",
       "      <td>Noord-Holland</td>\n",
       "      <td>1013 XE</td>\n",
       "      <td>Amsterdam</td>\n",
       "      <td>Amsterdam, Netherlands</td>\n",
       "      <td>NL</td>\n",
       "      <td>Netherlands</td>\n",
       "      <td>52.390225</td>\n",
       "      <td>4.873924</td>\n",
       "      <td>t</td>\n",
       "      <td>Apartment</td>\n",
       "      <td>Entire home/apt</td>\n",
       "      <td>5</td>\n",
       "      <td>1.0</td>\n",
       "      <td>2.0</td>\n",
       "      <td>2.0</td>\n",
       "      <td>Real Bed</td>\n",
       "      <td>{Internet,Wifi,Kitchen,\"Paid parking off premi...</td>\n",
       "      <td>NaN</td>\n",
       "      <td>$160.00</td>\n",
       "      <td>$543.00</td>\n",
       "      <td>$2,000.00</td>\n",
       "      <td>$300.00</td>\n",
       "      <td>$40.00</td>\n",
       "      <td>2</td>\n",
       "      <td>$15.00</td>\n",
       "      <td>4</td>\n",
       "      <td>20</td>\n",
       "      <td>7 weeks ago</td>\n",
       "      <td>t</td>\n",
       "      <td>0</td>\n",
       "      <td>0</td>\n",
       "      <td>0</td>\n",
       "      <td>47</td>\n",
       "      <td>2018-12-06</td>\n",
       "      <td>42</td>\n",
       "      <td>2015-07-31</td>\n",
       "      <td>2018-08-29</td>\n",
       "      <td>96.0</td>\n",
       "      <td>10.0</td>\n",
       "      <td>9.0</td>\n",
       "      <td>10.0</td>\n",
       "      <td>10.0</td>\n",
       "      <td>9.0</td>\n",
       "      <td>9.0</td>\n",
       "      <td>f</td>\n",
       "      <td>NaN</td>\n",
       "      <td>{Amsterdam}</td>\n",
       "      <td>f</td>\n",
       "      <td>f</td>\n",
       "      <td>moderate</td>\n",
       "      <td>f</td>\n",
       "      <td>f</td>\n",
       "      <td>1</td>\n",
       "      <td>1.03</td>\n",
       "    </tr>\n",
       "    <tr>\n",
       "      <th>2</th>\n",
       "      <td>20168</td>\n",
       "      <td>https://www.airbnb.com/rooms/20168</td>\n",
       "      <td>20181206172549</td>\n",
       "      <td>2018-12-06</td>\n",
       "      <td>100%Centre-Studio 1 Private Floor/Bathroom</td>\n",
       "      <td>Cozy studio on your own private floor, 100% in...</td>\n",
       "      <td>For those who like all facets of city life. In...</td>\n",
       "      <td>Cozy studio on your own private floor, 100% in...</td>\n",
       "      <td>none</td>\n",
       "      <td>Located just in between famous central canals....</td>\n",
       "      <td>Check-in time from 2pm till 10pm Checkout anyt...</td>\n",
       "      <td>No need to use any transport! All is within a ...</td>\n",
       "      <td>NaN</td>\n",
       "      <td>No curfew, free entrance 27/7 with your own ke...</td>\n",
       "      <td>This studio/room takes entire floor and has it...</td>\n",
       "      <td>NaN</td>\n",
       "      <td>NaN</td>\n",
       "      <td>https://a0.muscache.com/im/pictures/69979664/3...</td>\n",
       "      <td>NaN</td>\n",
       "      <td>59484</td>\n",
       "      <td>https://www.airbnb.com/users/show/59484</td>\n",
       "      <td>Alex</td>\n",
       "      <td>2009-12-02</td>\n",
       "      <td>Amsterdam, Noord-Holland, The Netherlands</td>\n",
       "      <td>Secondary phone nr. + (Phone number hidden by ...</td>\n",
       "      <td>within a few hours</td>\n",
       "      <td>100%</td>\n",
       "      <td>NaN</td>\n",
       "      <td>f</td>\n",
       "      <td>https://a0.muscache.com/im/pictures/user/579c8...</td>\n",
       "      <td>https://a0.muscache.com/im/pictures/user/579c8...</td>\n",
       "      <td>Grachtengordel</td>\n",
       "      <td>2.0</td>\n",
       "      <td>2.0</td>\n",
       "      <td>['email', 'phone', 'reviews', 'jumio', 'offlin...</td>\n",
       "      <td>t</td>\n",
       "      <td>f</td>\n",
       "      <td>Amsterdam, North Holland, Netherlands</td>\n",
       "      <td>Grachtengordel</td>\n",
       "      <td>Centrum-Oost</td>\n",
       "      <td>NaN</td>\n",
       "      <td>Amsterdam</td>\n",
       "      <td>North Holland</td>\n",
       "      <td>1017</td>\n",
       "      <td>Amsterdam</td>\n",
       "      <td>Amsterdam, Netherlands</td>\n",
       "      <td>NL</td>\n",
       "      <td>Netherlands</td>\n",
       "      <td>52.365087</td>\n",
       "      <td>4.893541</td>\n",
       "      <td>t</td>\n",
       "      <td>Townhouse</td>\n",
       "      <td>Entire home/apt</td>\n",
       "      <td>2</td>\n",
       "      <td>1.0</td>\n",
       "      <td>1.0</td>\n",
       "      <td>1.0</td>\n",
       "      <td>Real Bed</td>\n",
       "      <td>{TV,Internet,Wifi,\"Paid parking off premises\",...</td>\n",
       "      <td>NaN</td>\n",
       "      <td>$80.00</td>\n",
       "      <td>NaN</td>\n",
       "      <td>NaN</td>\n",
       "      <td>NaN</td>\n",
       "      <td>NaN</td>\n",
       "      <td>2</td>\n",
       "      <td>$0.00</td>\n",
       "      <td>1</td>\n",
       "      <td>1000</td>\n",
       "      <td>today</td>\n",
       "      <td>t</td>\n",
       "      <td>0</td>\n",
       "      <td>7</td>\n",
       "      <td>24</td>\n",
       "      <td>198</td>\n",
       "      <td>2018-12-06</td>\n",
       "      <td>233</td>\n",
       "      <td>2010-03-02</td>\n",
       "      <td>2018-11-30</td>\n",
       "      <td>87.0</td>\n",
       "      <td>9.0</td>\n",
       "      <td>10.0</td>\n",
       "      <td>9.0</td>\n",
       "      <td>9.0</td>\n",
       "      <td>10.0</td>\n",
       "      <td>9.0</td>\n",
       "      <td>f</td>\n",
       "      <td>NaN</td>\n",
       "      <td>{Amsterdam}</td>\n",
       "      <td>f</td>\n",
       "      <td>f</td>\n",
       "      <td>strict_14_with_grace_period</td>\n",
       "      <td>f</td>\n",
       "      <td>f</td>\n",
       "      <td>2</td>\n",
       "      <td>2.18</td>\n",
       "    </tr>\n",
       "  </tbody>\n",
       "</table>\n",
       "</div>"
      ],
      "text/plain": [
       "      id                         listing_url       scrape_id last_scraped  \\\n",
       "0   2818   https://www.airbnb.com/rooms/2818  20181206172549   2018-12-06   \n",
       "1   3209   https://www.airbnb.com/rooms/3209  20181206172549   2018-12-06   \n",
       "2  20168  https://www.airbnb.com/rooms/20168  20181206172549   2018-12-06   \n",
       "\n",
       "                                         name  \\\n",
       "0    Quiet Garden View Room & Super Fast WiFi   \n",
       "1           Quiet apt near center, great view   \n",
       "2  100%Centre-Studio 1 Private Floor/Bathroom   \n",
       "\n",
       "                                             summary  \\\n",
       "0           Quiet Garden View Room & Super Fast WiFi   \n",
       "1  You will love our spacious (90 m2) bright apar...   \n",
       "2  Cozy studio on your own private floor, 100% in...   \n",
       "\n",
       "                                               space  \\\n",
       "0  I'm renting a bedroom (room overlooking the ga...   \n",
       "1  Our apartment has lots of light, a balcony and...   \n",
       "2  For those who like all facets of city life. In...   \n",
       "\n",
       "                                         description experiences_offered  \\\n",
       "0  Quiet Garden View Room & Super Fast WiFi I'm r...                none   \n",
       "1  You will love our spacious (90 m2) bright apar...                none   \n",
       "2  Cozy studio on your own private floor, 100% in...                none   \n",
       "\n",
       "                               neighborhood_overview  \\\n",
       "0  Indische Buurt (\"Indies Neighborhood\") is a ne...   \n",
       "1  Welcome to the Spaarndammerbuurt! From the beg...   \n",
       "2  Located just in between famous central canals....   \n",
       "\n",
       "                                               notes  \\\n",
       "0  From week 38 to week 47 maintenance work to th...   \n",
       "1                                                NaN   \n",
       "2  Check-in time from 2pm till 10pm Checkout anyt...   \n",
       "\n",
       "                                             transit  \\\n",
       "0  The neighbourhood is well served by 24 hours p...   \n",
       "1  From Central Station, walk towards the busstop...   \n",
       "2  No need to use any transport! All is within a ...   \n",
       "\n",
       "                                        access  \\\n",
       "0                                          NaN   \n",
       "1  You will have the entire house to yourself.   \n",
       "2                                          NaN   \n",
       "\n",
       "                                         interaction  \\\n",
       "0                                                NaN   \n",
       "1  We will meet you in person for check in whenev...   \n",
       "2  No curfew, free entrance 27/7 with your own ke...   \n",
       "\n",
       "                                         house_rules  thumbnail_url  \\\n",
       "0  Please: - Leave your shoes in the entrance  - ...            NaN   \n",
       "1  Our house comes with our very sweet, but old (...            NaN   \n",
       "2  This studio/room takes entire floor and has it...            NaN   \n",
       "\n",
       "   medium_url                                        picture_url  \\\n",
       "0         NaN  https://a0.muscache.com/im/pictures/10272854/8...   \n",
       "1         NaN  https://a0.muscache.com/im/pictures/88955424/4...   \n",
       "2         NaN  https://a0.muscache.com/im/pictures/69979664/3...   \n",
       "\n",
       "   xl_picture_url  host_id                                 host_url host_name  \\\n",
       "0             NaN     3159   https://www.airbnb.com/users/show/3159    Daniel   \n",
       "1             NaN     3806   https://www.airbnb.com/users/show/3806   Maartje   \n",
       "2             NaN    59484  https://www.airbnb.com/users/show/59484      Alex   \n",
       "\n",
       "   host_since                              host_location  \\\n",
       "0  2008-09-24  Amsterdam, Noord-Holland, The Netherlands   \n",
       "1  2008-10-24  Amsterdam, Noord-Holland, The Netherlands   \n",
       "2  2009-12-02  Amsterdam, Noord-Holland, The Netherlands   \n",
       "\n",
       "                                          host_about  host_response_time  \\\n",
       "0  Upon arriving in Amsterdam, one can imagine as...      within an hour   \n",
       "1  I am a freelance radio producer and journalist...      within an hour   \n",
       "2  Secondary phone nr. + (Phone number hidden by ...  within a few hours   \n",
       "\n",
       "  host_response_rate  host_acceptance_rate host_is_superhost  \\\n",
       "0               100%                   NaN                 t   \n",
       "1               100%                   NaN                 f   \n",
       "2               100%                   NaN                 f   \n",
       "\n",
       "                                  host_thumbnail_url  \\\n",
       "0  https://a0.muscache.com/im/users/3159/profile_...   \n",
       "1  https://a0.muscache.com/im/users/3806/profile_...   \n",
       "2  https://a0.muscache.com/im/pictures/user/579c8...   \n",
       "\n",
       "                                    host_picture_url  \\\n",
       "0  https://a0.muscache.com/im/users/3159/profile_...   \n",
       "1  https://a0.muscache.com/im/users/3806/profile_...   \n",
       "2  https://a0.muscache.com/im/pictures/user/579c8...   \n",
       "\n",
       "               host_neighbourhood  host_listings_count  \\\n",
       "0                  Indische Buurt                  1.0   \n",
       "1  Spaarndammer en Zeeheldenbuurt                  1.0   \n",
       "2                  Grachtengordel                  2.0   \n",
       "\n",
       "   host_total_listings_count  \\\n",
       "0                        1.0   \n",
       "1                        1.0   \n",
       "2                        2.0   \n",
       "\n",
       "                                  host_verifications host_has_profile_pic  \\\n",
       "0  ['email', 'phone', 'reviews', 'jumio', 'offlin...                    t   \n",
       "1             ['email', 'phone', 'reviews', 'jumio']                    t   \n",
       "2  ['email', 'phone', 'reviews', 'jumio', 'offlin...                    t   \n",
       "\n",
       "  host_identity_verified                                 street  \\\n",
       "0                      f  Amsterdam, North Holland, Netherlands   \n",
       "1                      t  Amsterdam, Noord-Holland, Netherlands   \n",
       "2                      f  Amsterdam, North Holland, Netherlands   \n",
       "\n",
       "                    neighbourhood                  neighbourhood_cleansed  \\\n",
       "0                  Indische Buurt  Oostelijk Havengebied - Indische Buurt   \n",
       "1  Spaarndammer en Zeeheldenbuurt                              Westerpark   \n",
       "2                  Grachtengordel                            Centrum-Oost   \n",
       "\n",
       "   neighbourhood_group_cleansed       city          state  zipcode     market  \\\n",
       "0                           NaN  Amsterdam  North Holland      NaN  Amsterdam   \n",
       "1                           NaN  Amsterdam  Noord-Holland  1013 XE  Amsterdam   \n",
       "2                           NaN  Amsterdam  North Holland     1017  Amsterdam   \n",
       "\n",
       "           smart_location country_code      country   latitude  longitude  \\\n",
       "0  Amsterdam, Netherlands           NL  Netherlands  52.365755   4.941419   \n",
       "1  Amsterdam, Netherlands           NL  Netherlands  52.390225   4.873924   \n",
       "2  Amsterdam, Netherlands           NL  Netherlands  52.365087   4.893541   \n",
       "\n",
       "  is_location_exact property_type        room_type  accommodates  bathrooms  \\\n",
       "0                 f     Apartment     Private room             2        1.5   \n",
       "1                 t     Apartment  Entire home/apt             5        1.0   \n",
       "2                 t     Townhouse  Entire home/apt             2        1.0   \n",
       "\n",
       "   bedrooms  beds  bed_type  \\\n",
       "0       1.0   2.0  Real Bed   \n",
       "1       2.0   2.0  Real Bed   \n",
       "2       1.0   1.0  Real Bed   \n",
       "\n",
       "                                           amenities  square_feet    price  \\\n",
       "0  {Internet,Wifi,\"Paid parking off premises\",\"Bu...          NaN   $59.00   \n",
       "1  {Internet,Wifi,Kitchen,\"Paid parking off premi...          NaN  $160.00   \n",
       "2  {TV,Internet,Wifi,\"Paid parking off premises\",...          NaN   $80.00   \n",
       "\n",
       "  weekly_price monthly_price security_deposit cleaning_fee  guests_included  \\\n",
       "0          NaN     $1,500.00          $100.00       $50.00                1   \n",
       "1      $543.00     $2,000.00          $300.00       $40.00                2   \n",
       "2          NaN           NaN              NaN          NaN                2   \n",
       "\n",
       "  extra_people  minimum_nights  maximum_nights calendar_updated  \\\n",
       "0       $20.00               3              15            today   \n",
       "1       $15.00               4              20      7 weeks ago   \n",
       "2        $0.00               1            1000            today   \n",
       "\n",
       "  has_availability  availability_30  availability_60  availability_90  \\\n",
       "0                t               17               44               44   \n",
       "1                t                0                0                0   \n",
       "2                t                0                7               24   \n",
       "\n",
       "   availability_365 calendar_last_scraped  number_of_reviews first_review  \\\n",
       "0                44            2018-12-06                248   2009-03-30   \n",
       "1                47            2018-12-06                 42   2015-07-31   \n",
       "2               198            2018-12-06                233   2010-03-02   \n",
       "\n",
       "  last_review  review_scores_rating  review_scores_accuracy  \\\n",
       "0  2018-11-28                  97.0                    10.0   \n",
       "1  2018-08-29                  96.0                    10.0   \n",
       "2  2018-11-30                  87.0                     9.0   \n",
       "\n",
       "   review_scores_cleanliness  review_scores_checkin  \\\n",
       "0                       10.0                   10.0   \n",
       "1                        9.0                   10.0   \n",
       "2                       10.0                    9.0   \n",
       "\n",
       "   review_scores_communication  review_scores_location  review_scores_value  \\\n",
       "0                         10.0                     9.0                 10.0   \n",
       "1                         10.0                     9.0                  9.0   \n",
       "2                          9.0                    10.0                  9.0   \n",
       "\n",
       "  requires_license license jurisdiction_names instant_bookable  \\\n",
       "0                f     NaN        {Amsterdam}                t   \n",
       "1                f     NaN        {Amsterdam}                f   \n",
       "2                f     NaN        {Amsterdam}                f   \n",
       "\n",
       "  is_business_travel_ready          cancellation_policy  \\\n",
       "0                        f  strict_14_with_grace_period   \n",
       "1                        f                     moderate   \n",
       "2                        f  strict_14_with_grace_period   \n",
       "\n",
       "  require_guest_profile_picture require_guest_phone_verification  \\\n",
       "0                             f                                f   \n",
       "1                             f                                f   \n",
       "2                             f                                f   \n",
       "\n",
       "   calculated_host_listings_count  reviews_per_month  \n",
       "0                               1               2.10  \n",
       "1                               1               1.03  \n",
       "2                               2               2.18  "
      ]
     },
     "execution_count": 11,
     "metadata": {},
     "output_type": "execute_result"
    }
   ],
   "source": [
    "listings.head(3) # check first 3 rows"
   ]
  },
  {
   "cell_type": "code",
   "execution_count": 12,
   "id": "a540be8d-fc29-422f-8b73-dde2c1706c96",
   "metadata": {},
   "outputs": [],
   "source": [
    "# listings.info() # check for nulls"
   ]
  },
  {
   "cell_type": "code",
   "execution_count": 13,
   "id": "fe004e95-a203-4475-b9f4-0c2f0d536c68",
   "metadata": {
    "tags": []
   },
   "outputs": [
    {
     "data": {
      "text/plain": [
       "20030"
      ]
     },
     "execution_count": 13,
     "metadata": {},
     "output_type": "execute_result"
    }
   ],
   "source": [
    "len(listings['id'].unique()) # check all listing ids are unique"
   ]
  },
  {
   "cell_type": "markdown",
   "id": "cc429c2d-a24d-4822-9704-a11215158454",
   "metadata": {},
   "source": [
    "## 2.2 Reviews Data Checks\n"
   ]
  },
  {
   "cell_type": "code",
   "execution_count": 14,
   "id": "a9a32885-b683-43be-9ab9-1027e8183dfc",
   "metadata": {
    "tags": []
   },
   "outputs": [
    {
     "data": {
      "text/plain": [
       "(431830, 6)"
      ]
     },
     "execution_count": 14,
     "metadata": {},
     "output_type": "execute_result"
    }
   ],
   "source": [
    "reviews.shape "
   ]
  },
  {
   "cell_type": "code",
   "execution_count": 15,
   "id": "d7b96223-6c7f-439f-a7ed-7807c1a9e2df",
   "metadata": {
    "tags": []
   },
   "outputs": [
    {
     "data": {
      "text/html": [
       "<div>\n",
       "<style scoped>\n",
       "    .dataframe tbody tr th:only-of-type {\n",
       "        vertical-align: middle;\n",
       "    }\n",
       "\n",
       "    .dataframe tbody tr th {\n",
       "        vertical-align: top;\n",
       "    }\n",
       "\n",
       "    .dataframe thead th {\n",
       "        text-align: right;\n",
       "    }\n",
       "</style>\n",
       "<table border=\"1\" class=\"dataframe\">\n",
       "  <thead>\n",
       "    <tr style=\"text-align: right;\">\n",
       "      <th></th>\n",
       "      <th>listing_id</th>\n",
       "      <th>id</th>\n",
       "      <th>date</th>\n",
       "      <th>reviewer_id</th>\n",
       "      <th>reviewer_name</th>\n",
       "      <th>comments</th>\n",
       "    </tr>\n",
       "  </thead>\n",
       "  <tbody>\n",
       "    <tr>\n",
       "      <th>0</th>\n",
       "      <td>2818</td>\n",
       "      <td>1191</td>\n",
       "      <td>2009-03-30</td>\n",
       "      <td>10952</td>\n",
       "      <td>Lam</td>\n",
       "      <td>Daniel is really cool. The place was nice and ...</td>\n",
       "    </tr>\n",
       "    <tr>\n",
       "      <th>1</th>\n",
       "      <td>2818</td>\n",
       "      <td>1771</td>\n",
       "      <td>2009-04-24</td>\n",
       "      <td>12798</td>\n",
       "      <td>Alice</td>\n",
       "      <td>Daniel is the most amazing host! His place is ...</td>\n",
       "    </tr>\n",
       "    <tr>\n",
       "      <th>2</th>\n",
       "      <td>2818</td>\n",
       "      <td>1989</td>\n",
       "      <td>2009-05-03</td>\n",
       "      <td>11869</td>\n",
       "      <td>Natalja</td>\n",
       "      <td>We had such a great time in Amsterdam. Daniel ...</td>\n",
       "    </tr>\n",
       "  </tbody>\n",
       "</table>\n",
       "</div>"
      ],
      "text/plain": [
       "   listing_id    id        date  reviewer_id reviewer_name  \\\n",
       "0        2818  1191  2009-03-30        10952           Lam   \n",
       "1        2818  1771  2009-04-24        12798         Alice   \n",
       "2        2818  1989  2009-05-03        11869       Natalja   \n",
       "\n",
       "                                            comments  \n",
       "0  Daniel is really cool. The place was nice and ...  \n",
       "1  Daniel is the most amazing host! His place is ...  \n",
       "2  We had such a great time in Amsterdam. Daniel ...  "
      ]
     },
     "execution_count": 15,
     "metadata": {},
     "output_type": "execute_result"
    }
   ],
   "source": [
    "reviews.head(3)"
   ]
  },
  {
   "cell_type": "code",
   "execution_count": 16,
   "id": "32e6757c-776b-4514-96b1-fba86275dce8",
   "metadata": {
    "tags": []
   },
   "outputs": [
    {
     "data": {
      "text/plain": [
       "listing_id         0\n",
       "id                 0\n",
       "date               0\n",
       "reviewer_id        0\n",
       "reviewer_name      0\n",
       "comments         534\n",
       "dtype: int64"
      ]
     },
     "execution_count": 16,
     "metadata": {},
     "output_type": "execute_result"
    }
   ],
   "source": [
    "reviews.isnull().sum() # check for nulls"
   ]
  },
  {
   "cell_type": "code",
   "execution_count": 17,
   "id": "a617f301-696d-41b5-a7ac-bef258f36b2e",
   "metadata": {
    "tags": []
   },
   "outputs": [
    {
     "data": {
      "text/plain": [
       "17624"
      ]
     },
     "execution_count": 17,
     "metadata": {},
     "output_type": "execute_result"
    }
   ],
   "source": [
    "len(reviews['listing_id'].unique()) # check unique listing IDs in data set"
   ]
  },
  {
   "cell_type": "markdown",
   "id": "aa407362-5e13-481c-aeee-bbc2ffa0eba3",
   "metadata": {},
   "source": [
    "#### There are 2406 listings with no reviews."
   ]
  },
  {
   "cell_type": "markdown",
   "id": "09cd0f7d-8650-4393-a4a0-90110c1cc206",
   "metadata": {},
   "source": [
    "## 3. Natural Language Processing"
   ]
  },
  {
   "cell_type": "code",
   "execution_count": 18,
   "id": "09ce3a22-1c25-42a7-b07d-4df334ef8cd3",
   "metadata": {
    "tags": []
   },
   "outputs": [],
   "source": [
    "bi_gram_words = ['no', 'not', \"didn't\", \"wasn't\", \"weren't\", \"won't\"] # list of words which could add value eg('not clean')"
   ]
  },
  {
   "cell_type": "code",
   "execution_count": 19,
   "id": "537af928-7cc1-49f0-bc67-febb06f083b7",
   "metadata": {
    "tags": []
   },
   "outputs": [],
   "source": [
    "stpwrd = nltk.corpus.stopwords.words('english') # list of stop words\n",
    "stpwrd.extend(string.punctuation) # add punctuation to list"
   ]
  },
  {
   "cell_type": "code",
   "execution_count": 20,
   "id": "8f1a9e8d-b788-4455-9af5-535dff010a95",
   "metadata": {
    "tags": []
   },
   "outputs": [],
   "source": [
    "stpwrd = [word for word in stpwrd if word not in bi_gram_words] # remove potential value words from stop words"
   ]
  },
  {
   "cell_type": "code",
   "execution_count": 21,
   "id": "eecf2374-6ac1-4afa-96f0-9624218fa5dd",
   "metadata": {
    "tags": []
   },
   "outputs": [],
   "source": [
    "# Common words in data sets which don't add value:\n",
    "no_value_words = ['apartment', 'amsterdam', 'room', 'kitchen', 'city', 'house', 'bedroom', 'living',\n",
    "                  'bathroom', 'bed', 'located', 'area', 'floor',  'minutes', '2', '\\'s', \n",
    "                  'nice', 'one', 'centre', 'restaurants', 'two', 'center', 'great', 'close', 'also', \n",
    "                  'place', 'de', 'walk',  'stay', 'pijp' , 'offer', 'en', 'may', 'take', 'geust', 'day',\n",
    "                   'walking', 'station', 'equipped', 'home', 'fully', \n",
    "                  'central',  'enjoy', 'around', 'shower', 'perfect', 'double', 'tram',\n",
    "                  'distance', 'toilet', 'bars', 'bedrooms', 'min', '10', 'need', 'away', 'street',\n",
    "                   'public', '1', '5', 'free', 'corner', 'open', 'vondelpark', 'shops',\n",
    "                  'find',   'neighborhood', 'canal', 'within', 'everything', 'terrace', \n",
    "                   'available', 'access', 'square', 'situated', '’', 'near', 'neighbourhood',\n",
    "                  'space', 'transport', 'like', 'tv', 'location',  'jordaan', '3', 'coffee', 'dining',\n",
    "                   'curfew', 'lots', 'table', 'building', 'dam', 'back', 'dutch', 'extra' , 'schip', 'connection', 'wi-fi','lot']"
   ]
  },
  {
   "cell_type": "code",
   "execution_count": 22,
   "id": "8a42d6fa-a865-4093-b025-3337b7c456cf",
   "metadata": {
    "tags": []
   },
   "outputs": [],
   "source": [
    "# Function to clean text using regex.\n",
    "def regex_clean(txt, regex):    \n",
    "    if isinstance(txt, str):\n",
    "        return \" \".join(re.sub(regex, \" \", str(txt)).split())\n",
    "    else:\n",
    "        return txt"
   ]
  },
  {
   "cell_type": "code",
   "execution_count": 23,
   "id": "692c3046-4022-478f-bae9-5bd9a8a313fd",
   "metadata": {
    "tags": []
   },
   "outputs": [],
   "source": [
    "# Function to apply appropiate regex and remove capitilisation.\n",
    "def pre_token_cleaning(df, column_name):\n",
    "    df = df.copy()\n",
    "    df[column_name] = df[column_name].apply(lambda x: regex_clean(x, r'\\s\\d+\\s')) # remove digits\n",
    "    df[column_name] = df[column_name].apply(lambda x: regex_clean(x, r'\\b\\w*\\d\\w*\\b')) # remove digits surrounded by letters\n",
    "    df[column_name] = df[column_name].astype(str).str.lower()\n",
    "    return df"
   ]
  },
  {
   "cell_type": "code",
   "execution_count": 24,
   "id": "054158ec-ea1a-4417-bd77-d63187292809",
   "metadata": {
    "tags": []
   },
   "outputs": [],
   "source": [
    "# Function which removes no value words and tokenizes.\n",
    "def tokenization(df, column_name):\n",
    "    df = df.copy()\n",
    "    df[column_name] = df[column_name].apply(word_tokenize)\n",
    "    df[column_name] = df[column_name].apply(lambda x: [word for word in x if word not in stpwrd])\n",
    "    df[column_name] = df[column_name].apply(lambda x: [word for word in x if word not in no_value_words])\n",
    "    \n",
    "    return df\n",
    "    "
   ]
  },
  {
   "cell_type": "code",
   "execution_count": 25,
   "id": "c60c3351-ff06-4938-8a2e-423a0f0e88a1",
   "metadata": {
    "tags": []
   },
   "outputs": [],
   "source": [
    "porter = PorterStemmer() # intiate stemmer"
   ]
  },
  {
   "cell_type": "code",
   "execution_count": 26,
   "id": "89d9bca4-7f8d-4f11-a7eb-8962d191eae7",
   "metadata": {
    "tags": []
   },
   "outputs": [],
   "source": [
    "# Uses porter stemmer.\n",
    "def final_prep(df, column_name):\n",
    "    df = df.copy()\n",
    "     # Post Token Cleaning - Stuff that applies to a list\n",
    "    df[column_name] = df[column_name].apply(lambda x: [porter.stem(word) for word in x ])\n",
    "    \n",
    "    return df\n",
    "\n"
   ]
  },
  {
   "cell_type": "code",
   "execution_count": 27,
   "id": "67471629-e0a5-4a84-87ff-c1b509f006fb",
   "metadata": {
    "tags": []
   },
   "outputs": [],
   "source": [
    "# Combination of previous functions:\n",
    "def prep_data(df, column_name):\n",
    "    \n",
    "    df = df.copy()\n",
    "   \n",
    "    # Pre Token Cleaning - Stuff that applies to a string.\n",
    "    df[column_name] = df[column_name].apply(lambda x: regex_clean(x, r'\\s\\d+\\s'))\n",
    "    df[column_name] = df[column_name].apply(lambda x: regex_clean(x, r'\\b\\w*\\d\\w*\\b'))\n",
    "    df[column_name] = df[column_name].astype(str).str.lower()\n",
    "    \n",
    "    \n",
    "    # Tokenise\n",
    "    df[column_name] = df[column_name].apply(word_tokenize)\n",
    "    \n",
    "       \n",
    "    # Post Token Cleaning - Stuff that applies to a list\n",
    "    df[column_name] = df[column_name].apply(lambda x: [word for word in x if word not in stpwrd])\n",
    "    df[column_name] = df[column_name].apply(lambda x: [word for word in x if word not in no_value_words])\n",
    "    df[column_name] = df[column_name].apply(lambda x: [porter.stem(word) for word in x ])\n",
    "    \n",
    "    return df"
   ]
  },
  {
   "cell_type": "code",
   "execution_count": 28,
   "id": "387a73c0-50bf-40b2-8f80-17bbec749a3d",
   "metadata": {
    "tags": []
   },
   "outputs": [],
   "source": [
    "# Function to create bi_grams:\n",
    "def bi_grams(df, column_name, words_to_combine):\n",
    "    combined_tokens = []\n",
    "    for tokens in df[column_name]:\n",
    "        new_tokens = []\n",
    "        i = 0\n",
    "        while i < len(tokens):\n",
    "            if tokens[i] in words_to_combine:\n",
    "                if i + 1 < len(tokens):\n",
    "                    new_tokens.append(tokens[i] + ' ' + tokens[i + 1])\n",
    "                    i += 2\n",
    "                else:\n",
    "                    new_tokens.append(tokens[i])\n",
    "                    i += 1\n",
    "            else:\n",
    "                new_tokens.append(tokens[i])\n",
    "                i += 1\n",
    "        combined_tokens.append(new_tokens)\n",
    "    return combined_tokens"
   ]
  },
  {
   "cell_type": "markdown",
   "id": "a466464e-af12-4951-bf61-b5abee8344b5",
   "metadata": {},
   "source": [
    "## 3.1 Natural Language Processing of Listings Data Set\n"
   ]
  },
  {
   "cell_type": "code",
   "execution_count": 29,
   "id": "3aa8600b-0069-4ccb-a70e-9281281d2876",
   "metadata": {
    "tags": []
   },
   "outputs": [],
   "source": [
    "listings.fillna(' ', inplace =True) # fill nulls with empty strings"
   ]
  },
  {
   "cell_type": "code",
   "execution_count": 30,
   "id": "103101e3-3e7b-44ee-a350-68daa3f18d9f",
   "metadata": {
    "tags": []
   },
   "outputs": [],
   "source": [
    "listings['Complete Description'] = listings['name'] +' '+ listings['summary'] + ' ' +  listings['space'] + ' ' + listings['description'] # combine columns to create a complete description"
   ]
  },
  {
   "cell_type": "code",
   "execution_count": 31,
   "id": "c4c5daee-768a-4e88-91ed-a0ecf43f5274",
   "metadata": {
    "tags": []
   },
   "outputs": [
    {
     "data": {
      "text/html": [
       "<div>\n",
       "<style scoped>\n",
       "    .dataframe tbody tr th:only-of-type {\n",
       "        vertical-align: middle;\n",
       "    }\n",
       "\n",
       "    .dataframe tbody tr th {\n",
       "        vertical-align: top;\n",
       "    }\n",
       "\n",
       "    .dataframe thead th {\n",
       "        text-align: right;\n",
       "    }\n",
       "</style>\n",
       "<table border=\"1\" class=\"dataframe\">\n",
       "  <thead>\n",
       "    <tr style=\"text-align: right;\">\n",
       "      <th></th>\n",
       "      <th>Complete Description</th>\n",
       "    </tr>\n",
       "  </thead>\n",
       "  <tbody>\n",
       "    <tr>\n",
       "      <th>0</th>\n",
       "      <td>Quiet Garden View Room &amp; Super Fast WiFi Quiet...</td>\n",
       "    </tr>\n",
       "    <tr>\n",
       "      <th>1</th>\n",
       "      <td>Quiet apt near center, great view You will lov...</td>\n",
       "    </tr>\n",
       "    <tr>\n",
       "      <th>2</th>\n",
       "      <td>100%Centre-Studio 1 Private Floor/Bathroom Coz...</td>\n",
       "    </tr>\n",
       "  </tbody>\n",
       "</table>\n",
       "</div>"
      ],
      "text/plain": [
       "                                Complete Description\n",
       "0  Quiet Garden View Room & Super Fast WiFi Quiet...\n",
       "1  Quiet apt near center, great view You will lov...\n",
       "2  100%Centre-Studio 1 Private Floor/Bathroom Coz..."
      ]
     },
     "execution_count": 31,
     "metadata": {},
     "output_type": "execute_result"
    }
   ],
   "source": [
    "listings[['Complete Description']].head(3)"
   ]
  },
  {
   "cell_type": "code",
   "execution_count": 32,
   "id": "bf465bdc-06c4-4002-96b2-40edd48a446a",
   "metadata": {
    "tags": []
   },
   "outputs": [],
   "source": [
    "listings_pre_token = pre_token_cleaning(listings,'Complete Description')\n"
   ]
  },
  {
   "cell_type": "code",
   "execution_count": 33,
   "id": "4cd624a7-4014-47a8-b88b-ca271458bb57",
   "metadata": {
    "tags": []
   },
   "outputs": [],
   "source": [
    "listings_tokens = tokenization(listings_pre_token, 'Complete Description')\n"
   ]
  },
  {
   "cell_type": "code",
   "execution_count": 34,
   "id": "f577aedc-8c00-45a3-9a60-ca4894438f85",
   "metadata": {
    "tags": []
   },
   "outputs": [],
   "source": [
    "listings_final = final_prep(listings_tokens, 'Complete Description')"
   ]
  },
  {
   "cell_type": "code",
   "execution_count": 35,
   "id": "c79135ca-09e4-494d-b983-e121ecb70b8b",
   "metadata": {
    "tags": []
   },
   "outputs": [],
   "source": [
    "listings_prep = prep_data(listings, 'Complete Description')"
   ]
  },
  {
   "cell_type": "code",
   "execution_count": 36,
   "id": "88e72d3e-64b5-43ad-95a1-3896b38ccacd",
   "metadata": {
    "tags": []
   },
   "outputs": [
    {
     "data": {
      "text/html": [
       "<div>\n",
       "<style scoped>\n",
       "    .dataframe tbody tr th:only-of-type {\n",
       "        vertical-align: middle;\n",
       "    }\n",
       "\n",
       "    .dataframe tbody tr th {\n",
       "        vertical-align: top;\n",
       "    }\n",
       "\n",
       "    .dataframe thead th {\n",
       "        text-align: right;\n",
       "    }\n",
       "</style>\n",
       "<table border=\"1\" class=\"dataframe\">\n",
       "  <thead>\n",
       "    <tr style=\"text-align: right;\">\n",
       "      <th></th>\n",
       "      <th>Complete Description</th>\n",
       "    </tr>\n",
       "  </thead>\n",
       "  <tbody>\n",
       "    <tr>\n",
       "      <th>0</th>\n",
       "      <td>[quiet, garden, view, super, fast, wifi, quiet...</td>\n",
       "    </tr>\n",
       "    <tr>\n",
       "      <th>1</th>\n",
       "      <td>[quiet, apt, view, love, spaciou, bright, monu...</td>\n",
       "    </tr>\n",
       "    <tr>\n",
       "      <th>2</th>\n",
       "      <td>[centre-studio, privat, floor/bathroom, cozi, ...</td>\n",
       "    </tr>\n",
       "  </tbody>\n",
       "</table>\n",
       "</div>"
      ],
      "text/plain": [
       "                                Complete Description\n",
       "0  [quiet, garden, view, super, fast, wifi, quiet...\n",
       "1  [quiet, apt, view, love, spaciou, bright, monu...\n",
       "2  [centre-studio, privat, floor/bathroom, cozi, ..."
      ]
     },
     "execution_count": 36,
     "metadata": {},
     "output_type": "execute_result"
    }
   ],
   "source": [
    "listings_prep[['Complete Description']].head(3) # "
   ]
  },
  {
   "cell_type": "code",
   "execution_count": 37,
   "id": "da8f9ab1-70f5-4aa6-9ea2-14f92bc4f0a5",
   "metadata": {
    "tags": []
   },
   "outputs": [],
   "source": [
    "processed_column = bi_grams(listings_prep,'Complete Description', ['no' , 'not'])\n",
    "listings_prep['Complete Description'] = processed_column"
   ]
  },
  {
   "cell_type": "code",
   "execution_count": 38,
   "id": "4f74c8af-f0af-4075-be3a-1075b73de61a",
   "metadata": {
    "tags": []
   },
   "outputs": [
    {
     "data": {
      "text/html": [
       "<div>\n",
       "<style scoped>\n",
       "    .dataframe tbody tr th:only-of-type {\n",
       "        vertical-align: middle;\n",
       "    }\n",
       "\n",
       "    .dataframe tbody tr th {\n",
       "        vertical-align: top;\n",
       "    }\n",
       "\n",
       "    .dataframe thead th {\n",
       "        text-align: right;\n",
       "    }\n",
       "</style>\n",
       "<table border=\"1\" class=\"dataframe\">\n",
       "  <thead>\n",
       "    <tr style=\"text-align: right;\">\n",
       "      <th></th>\n",
       "      <th>Complete Description</th>\n",
       "    </tr>\n",
       "  </thead>\n",
       "  <tbody>\n",
       "    <tr>\n",
       "      <th>0</th>\n",
       "      <td>[quiet, garden, view, super, fast, wifi, quiet...</td>\n",
       "    </tr>\n",
       "    <tr>\n",
       "      <th>1</th>\n",
       "      <td>[quiet, apt, view, love, spaciou, bright, monu...</td>\n",
       "    </tr>\n",
       "    <tr>\n",
       "      <th>2</th>\n",
       "      <td>[centre-studio, privat, floor/bathroom, cozi, ...</td>\n",
       "    </tr>\n",
       "  </tbody>\n",
       "</table>\n",
       "</div>"
      ],
      "text/plain": [
       "                                Complete Description\n",
       "0  [quiet, garden, view, super, fast, wifi, quiet...\n",
       "1  [quiet, apt, view, love, spaciou, bright, monu...\n",
       "2  [centre-studio, privat, floor/bathroom, cozi, ..."
      ]
     },
     "execution_count": 38,
     "metadata": {},
     "output_type": "execute_result"
    }
   ],
   "source": [
    "listings_prep[['Complete Description']].head(3)"
   ]
  },
  {
   "cell_type": "markdown",
   "id": "1d9eb6eb-2786-469b-8086-76b82f14c314",
   "metadata": {
    "tags": []
   },
   "source": [
    "## 3.2 Natural Language Processing of Reviews Data Set"
   ]
  },
  {
   "cell_type": "code",
   "execution_count": null,
   "id": "334ac33a-46ff-44ba-8b5f-9ff2e509ec04",
   "metadata": {
    "tags": []
   },
   "outputs": [],
   "source": [
    "reviews_prep = prep_data(reviews,'comments')"
   ]
  },
  {
   "cell_type": "code",
   "execution_count": null,
   "id": "5cc9c77a-68db-4d60-92c4-ad6d088aeaa5",
   "metadata": {
    "tags": []
   },
   "outputs": [],
   "source": [
    "bi_gram_column = bi_grams(reviews_prep,'comments', ['no' , 'not'])\n",
    "reviews_prep['comments'] = bi_gram_column"
   ]
  },
  {
   "cell_type": "code",
   "execution_count": null,
   "id": "7bcebd71-b61c-4581-be05-f177af121b21",
   "metadata": {
    "tags": []
   },
   "outputs": [],
   "source": [
    "reviews_prep[['comments']].head(3)"
   ]
  },
  {
   "cell_type": "markdown",
   "id": "2e58e5a0-1f6b-4ec5-9d40-ab677914ccc4",
   "metadata": {},
   "source": [
    "## 4. Exploring Key Trends"
   ]
  },
  {
   "cell_type": "code",
   "execution_count": null,
   "id": "823d3e9b-d832-4160-b4d8-cbdfb5ede394",
   "metadata": {
    "tags": []
   },
   "outputs": [],
   "source": [
    "# Function to count most common words\n",
    "def count_most_common_words(df, column_name, num_words, filter_no_value_words=False):\n",
    "    most_common_words = None\n",
    "\n",
    "    # Check if input is already tokenized\n",
    "    if isinstance(df[column_name][0], str):\n",
    "        # Tokenize the string and flatten the list of words\n",
    "        all_words = [word for comment in df[column_name] for word in word_tokenize(comment)]\n",
    "    elif isinstance(df[column_name][0], list):\n",
    "        # Flatten the list of lists of words\n",
    "        all_words = [word for word_list in df[column_name] for word in word_list]\n",
    "    else:\n",
    "        print(\"Unsupported data format in the column\")\n",
    "        return most_common_words\n",
    "\n",
    "    # Always filter out stopwords\n",
    "    all_words = [word.lower() for word in all_words if word.lower() not in stpwrd]\n",
    "\n",
    "    # Filter out no_value_words if specified\n",
    "    if filter_no_value_words:\n",
    "        all_words = [word.lower() for word in all_words if word.lower() not in no_value_words]\n",
    "\n",
    "    # Count the occurrences of each word\n",
    "    word_counts = Counter(all_words)\n",
    "\n",
    "    # Find the most common words\n",
    "    most_common_words = word_counts.most_common(num_words)\n",
    "\n",
    "    return most_common_words"
   ]
  },
  {
   "cell_type": "code",
   "execution_count": null,
   "id": "7a73ee42-f2dc-41fd-8eca-988ec6784b4c",
   "metadata": {
    "tags": []
   },
   "outputs": [],
   "source": [
    "count_most_common_words(listings_prep,'Complete Description', 10)"
   ]
  },
  {
   "cell_type": "code",
   "execution_count": null,
   "id": "3d19d269-1539-48f5-9526-78d93d3c1156",
   "metadata": {
    "tags": []
   },
   "outputs": [],
   "source": [
    "def generate_word_cloud(word_freq_list, mask_path, rotate_mask=False):\n",
    "    # Load the mask image\n",
    "    mask = Image.open(mask_path)\n",
    "\n",
    "    # Rotate the mask image if specified\n",
    "    if rotate_mask:\n",
    "        mask = mask.rotate(180)\n",
    "\n",
    "    # Create a dictionary from the list of tuples\n",
    "    word_freq_dict = dict(word_freq_list)\n",
    "\n",
    "    # Generate the word cloud with rotated mask and darker red color scheme\n",
    "    wordcloud = WordCloud(width=800, height=400, background_color='grey', mask=np.array(mask),\n",
    "                          colormap='Reds_r').generate_from_frequencies(word_freq_dict)\n",
    "\n",
    "    # Display the word cloud\n",
    "    plt.figure(figsize=(10, 5))\n",
    "    plt.imshow(wordcloud, interpolation='bilinear')\n",
    "    plt.axis('off')\n",
    "    plt.show()\n",
    "\n",
    "    return wordcloud"
   ]
  },
  {
   "cell_type": "code",
   "execution_count": null,
   "id": "fc3ce48e-f45e-490b-bbcb-1acf501e4616",
   "metadata": {
    "tags": []
   },
   "outputs": [],
   "source": [
    "house_cloud = generate_word_cloud(count_most_common_words(listings_tokens,'Complete Description', 50, True), \"simple-house.png\")\n",
    "house_cloud.to_file('house_cloud.png')"
   ]
  },
  {
   "cell_type": "code",
   "execution_count": null,
   "id": "462c8ed7-b615-4a5f-a018-06083f8f31e1",
   "metadata": {
    "tags": []
   },
   "outputs": [],
   "source": [
    "thumbs_down_cloud = generate_word_cloud(count_most_common_words(listings_pre_token,'Complete Description', 50, False), \"thumb_down.png\", rotate_mask = True)\n",
    "thumbs_down_cloud.to_file('thumbs_down_cloud.png')\n"
   ]
  },
  {
   "cell_type": "markdown",
   "id": "be02c6d4-f447-48e8-8731-9394a90b7283",
   "metadata": {},
   "source": [
    "## 5. Simplistic Model"
   ]
  },
  {
   "cell_type": "markdown",
   "id": "08026168-327c-4b4d-bbf4-acc8d175c732",
   "metadata": {
    "tags": []
   },
   "source": [
    "## 5.1 Divide Listings into Categories"
   ]
  },
  {
   "cell_type": "code",
   "execution_count": null,
   "id": "0fa1fa9c-cf97-45c5-99da-5b80a26f1aca",
   "metadata": {
    "tags": []
   },
   "outputs": [],
   "source": [
    "def assign_group_name(row):\n",
    "    group_words = {\n",
    "        'Cozy': ['studio','cosi', 'cozi'],\n",
    "        'Spacious': ['spaciou', 'large', 'big'],\n",
    "        'Quiet': ['quiet', 'garden', 'view'],\n",
    "        'Comfortable': ['comfort','relax','warm','modern'],\n",
    "        'Dutch': ['van', 'een','het']\n",
    "    }\n",
    "\n",
    "    word_counts = {group: sum(1 for word in group_words[group] if word in row) for group in group_words}\n",
    "    max_group = max(word_counts, key=word_counts.get)\n",
    "    return max_group\n",
    "\n",
    "def create_dataframe_and_assign_groups(df, column):\n",
    "    # Apply the function to create a new column with group names\n",
    "    df = df.copy()\n",
    "    df['Model_1'] = df[column].apply(assign_group_name)\n",
    "    return df"
   ]
  },
  {
   "cell_type": "code",
   "execution_count": null,
   "id": "22b0ee33-3677-4213-894e-7892eaa95d64",
   "metadata": {
    "tags": []
   },
   "outputs": [],
   "source": [
    "listings_prep = create_dataframe_and_assign_groups(listings_prep, 'Complete Description')"
   ]
  },
  {
   "cell_type": "code",
   "execution_count": null,
   "id": "2a6df675-bb00-419a-9f96-2b8c512c9b82",
   "metadata": {
    "tags": []
   },
   "outputs": [],
   "source": [
    "listings_prep['Model_1'].value_counts()"
   ]
  },
  {
   "cell_type": "markdown",
   "id": "1f5aa17b-571b-467a-9f5f-20b1351bd9dd",
   "metadata": {},
   "source": [
    "## 5.2 Divide Reviews into Categories"
   ]
  },
  {
   "cell_type": "code",
   "execution_count": null,
   "id": "c403ea34-dbaa-4121-8932-4832a650ddba",
   "metadata": {
    "tags": []
   },
   "outputs": [],
   "source": [
    "# Assigns listings a group based on appearance of words\n",
    "def assign_groups_reviews(row):\n",
    "    group_1_words = ['no clean', 'not clean', 'dirty', 'gross', 'bad','not good','not nice']\n",
    "   \n",
    "    group_1 = any(word in row for word in group_1_words)\n",
    "    \n",
    "    # Assign rows not matching any specified words to group 2\n",
    "    if not group_1:\n",
    "        group_2 = True\n",
    "    else:\n",
    "        group_2 = False\n",
    "\n",
    "    return group_1, group_2"
   ]
  },
  {
   "cell_type": "code",
   "execution_count": null,
   "id": "30ed171d-cf01-4539-957e-876f3c826014",
   "metadata": {
    "tags": []
   },
   "outputs": [],
   "source": [
    "def create_dataframe_and_assign_groups_reviews(df, column):\n",
    "    # Apply the function to create new columns\n",
    "    df['Not clean'], df['Clean'] = zip(*df[column].apply(assign_groups_reviews))\n",
    "\n",
    "    return df"
   ]
  },
  {
   "cell_type": "code",
   "execution_count": null,
   "id": "d28cfe0c-e55c-45e6-8730-62fd2ff4a0a9",
   "metadata": {
    "tags": []
   },
   "outputs": [],
   "source": [
    "reviews_grouped = create_dataframe_and_assign_groups_reviews(reviews_prep, 'comments')"
   ]
  },
  {
   "cell_type": "code",
   "execution_count": null,
   "id": "8ffd32f0-d38f-48bd-a8cd-898e9d1b5d55",
   "metadata": {
    "tags": []
   },
   "outputs": [],
   "source": [
    "dirty_reviews = reviews_grouped[reviews_grouped['Not clean'] == True]\n",
    "    \n",
    "    # Group by listing_id and count occurrences of 'True' in 'Not clean' column\n",
    "dirty_count = dirty_reviews.groupby('listing_id')['Not clean'].value_counts()\n",
    "dirty_count"
   ]
  },
  {
   "cell_type": "code",
   "execution_count": null,
   "id": "0971a31c-506d-4a61-8650-545d23c03171",
   "metadata": {
    "tags": []
   },
   "outputs": [],
   "source": [
    "filtered_reviews = reviews_grouped[reviews_grouped['Not clean'] == False]\n",
    "filtered_reviews.shape"
   ]
  },
  {
   "cell_type": "code",
   "execution_count": null,
   "id": "c2914132-4d60-4e48-873b-022c335bd44c",
   "metadata": {
    "tags": []
   },
   "outputs": [],
   "source": [
    "def calculate_score(df, column_name, score):\n",
    "    # Group by listing_id and calculate the mean of specified column\n",
    "    \n",
    "    df[f'{score}_score'] = df.groupby('listing_id')[column_name].transform('sum')\n",
    "\n",
    "    \n",
    "    # Scale the 'Dirty_score' column\n",
    "    df[f'{score}_score']  = df[f'{score}_score']  / df[f'{score}_score'] .max()\n",
    "    \n",
    "    # Sort the DataFrame by 'Dirty_score' in descending order\n",
    "    # df = df.sort_values(by=f'{score}_score', ascending=False)\n",
    "    \n",
    "    # Drop duplicate listing_id rows\n",
    "    df_unique = df.drop_duplicates(subset='listing_id')\n",
    "    \n",
    "    return df_unique\n"
   ]
  },
  {
   "cell_type": "code",
   "execution_count": null,
   "id": "229be477-72ae-4be3-b78e-32dc850c696f",
   "metadata": {
    "tags": []
   },
   "outputs": [],
   "source": [
    "df_scores = calculate_score(reviews_grouped, 'Not clean', 'Dirty')\n",
    "df_scores.head()"
   ]
  },
  {
   "cell_type": "code",
   "execution_count": null,
   "id": "fe0b91d8-48e1-4285-828d-6fbd76e58c48",
   "metadata": {
    "tags": []
   },
   "outputs": [],
   "source": [
    "df_scores_sorted = df_scores.sort_values(by='Dirty_score', ascending = False)"
   ]
  },
  {
   "cell_type": "code",
   "execution_count": null,
   "id": "d8bd32b7-5f0c-4de2-9806-aa4e20d00222",
   "metadata": {
    "tags": []
   },
   "outputs": [],
   "source": [
    "df_scores_sorted.head()"
   ]
  },
  {
   "cell_type": "code",
   "execution_count": null,
   "id": "cd19b8c8-fbae-4504-8259-11e3d4ff0f37",
   "metadata": {
    "tags": []
   },
   "outputs": [],
   "source": [
    "# Define the bins and labels\n",
    "bins = [-0.01, 0.0, 0.1, 0.4, 1]\n",
    "labels = ['Very Clean', 'Slightly dirty', 'Dirty', 'Avoid at all costs']\n",
    "\n",
    "# Create the new column based on the 'Dirty_score' ranges\n",
    "df_scores['Dirty_category'] = pd.cut(df_scores['Dirty_score'], bins=bins, labels=labels, include_lowest=True)\n",
    "df_scores['Dirty_category'].value_counts()"
   ]
  },
  {
   "cell_type": "code",
   "execution_count": null,
   "id": "abc709eb-01e2-4485-bde4-34e2cc9f337c",
   "metadata": {
    "tags": []
   },
   "outputs": [],
   "source": [
    "df_scores2 = df_scores[df_scores['Not clean'] == True]\n",
    "\n",
    "# Count the values in the filtered DataFrame\n",
    "value_counts = df_scores2['Dirty_category'].value_counts()\n",
    "\n",
    "# Print the value counts\n",
    "print(value_counts)"
   ]
  },
  {
   "cell_type": "code",
   "execution_count": null,
   "id": "6620755e-0c66-4b3a-9311-28cdc11b9b00",
   "metadata": {
    "tags": []
   },
   "outputs": [],
   "source": [
    "\n",
    "# Get the counts of each category\n",
    "category_counts = filtered_df['Dirty_category'].value_counts()\n",
    "\n",
    "# Define colors for each category\n",
    "colors = ['maroon', 'lightcoral', 'indianred']\n",
    "\n",
    "# Plot the histogram\n",
    "plt.figure(figsize=(8, 6))\n",
    "category_counts.plot(kind='bar', color=colors, edgecolor='black')  # Change color to list of colors\n",
    "plt.title('Histogram of Dirty Categories')\n",
    "plt.xlabel('Category')\n",
    "plt.ylabel('Frequency')\n",
    "plt.xticks(rotation=45)  # Rotate x-axis labels for better visibility\n",
    "plt.grid(axis='y')  # Show gridlines on y-axis only\n",
    "plt.tight_layout()\n",
    "plt.savefig('Histogram.png', dpi=300)# Adjust layout to prevent clipping of labels\n",
    "plt.show()"
   ]
  },
  {
   "cell_type": "markdown",
   "id": "ba0b242e-8308-4250-afcf-23f3fa137d60",
   "metadata": {},
   "source": [
    "## 6 Topic Modelling"
   ]
  },
  {
   "cell_type": "code",
   "execution_count": null,
   "id": "f70a20ab-a7c5-41fa-a02a-b434d83f31fb",
   "metadata": {
    "tags": []
   },
   "outputs": [],
   "source": [
    "def topic_modeling(df, column, num_topics=5, passes=10):\n",
    "    df =df.copy()\n",
    "    # Create dictionary and document-term matrix\n",
    "    dictionary = corpora.Dictionary(df[column])\n",
    "    corpus = [dictionary.doc2bow(text) for text in df[column]]\n",
    "\n",
    "    # Train LDA model\n",
    "    lda_model = models.LdaModel(corpus, num_topics=num_topics, id2word=dictionary, passes=passes, random_state= 20)\n",
    "\n",
    "    # Get the topic distribution for each document\n",
    "    topics = [lda_model.get_document_topics(doc) for doc in corpus]\n",
    "\n",
    "    # Count the number of occurrences in each topic\n",
    "    topic_counts = {}\n",
    "    for doc_topics in topics:\n",
    "        for topic, prob in doc_topics:\n",
    "            if topic not in topic_counts:\n",
    "                topic_counts[topic] = 1\n",
    "            else:\n",
    "                topic_counts[topic] += 1\n",
    "                \n",
    "    # Visualization\n",
    "    pyLDAvis.enable_notebook()\n",
    "    prepared_data = gensimvis.prepare(lda_model, corpus, dictionary)\n",
    "    pyLDAvis.display(prepared_data)\n",
    "    plt.show() \n",
    "\n",
    "    return lda_model, topic_counts\n",
    "\n"
   ]
  },
  {
   "cell_type": "code",
   "execution_count": null,
   "id": "839501d0-b95a-4049-bee8-1fc2c42d65a6",
   "metadata": {
    "tags": []
   },
   "outputs": [],
   "source": [
    "# Create dictionary and document-term matrix\n",
    "dictionary = corpora.Dictionary(listings_prep['Complete Description'])\n",
    "corpus = [dictionary.doc2bow(text) for text in listings_prep['Complete Description']]"
   ]
  },
  {
   "cell_type": "code",
   "execution_count": null,
   "id": "8de61089-3643-4f2c-a751-fac9269cf2d7",
   "metadata": {
    "tags": []
   },
   "outputs": [],
   "source": [
    "topics, counts = topic_modeling(listings_prep.head(100), column='Complete Description')\n",
    "pprint(topics.print_topics())\n",
    "print(counts)\n"
   ]
  },
  {
   "cell_type": "code",
   "execution_count": null,
   "id": "6c70f615-137c-4616-a0f5-1cace03045fe",
   "metadata": {
    "tags": []
   },
   "outputs": [],
   "source": [
    "\n",
    "\n",
    "\n",
    "#     # Train LDA model\n",
    "# lda_model = models.LdaModel(corpus, num_topics=5, id2word=dictionary, passes=2, random_state= 20)\n",
    "\n",
    "#     # Get the topic distribution for each document\n",
    "# topics = [lda_model.get_document_topics(doc) for doc in corpus]\n",
    "\n",
    "#     # Count the number of occurrences in each topic\n",
    "# topic_counts = {}\n",
    "# for doc_topics in topics:\n",
    "#     for topic, prob in doc_topics:\n",
    "#         if topic not in topic_counts:\n",
    "#             topic_counts[topic] = 1\n",
    "#         else:\n",
    "#             topic_counts[topic] += 1\n",
    "                \n",
    "    # Visualization\n",
    "pyLDAvis.enable_notebook(local = True)\n",
    "prepared_data = gensimvis.prepare(lda_model, corpus, dictionary, R = 10)\n",
    "pyLDAvis.display(prepared_data)\n",
    "pyLDAvis.save_html(prepared_data, 'lda_result.html')\n",
    "display(HTML('lda_result.html'))\n",
    " "
   ]
  },
  {
   "cell_type": "code",
   "execution_count": null,
   "id": "89b385d9-ec03-495e-bcde-22bfee018966",
   "metadata": {
    "tags": []
   },
   "outputs": [],
   "source": [
    "# lda_display = gensimvis.prepare(topics, ## the model\n",
    "#                                 corpus = corpus, ## the TF-IDF corpus\n",
    "#                                 dictionary = dictionary, ## Our dictionary\n",
    "#                                 #mds='mmds',\n",
    "#                                 R=20, ## How many topics to show\n",
    "#                                 n_jobs=-1, \n",
    "#                                 mds='mmds')"
   ]
  },
  {
   "cell_type": "code",
   "execution_count": null,
   "id": "01902ecd-a19b-4b6f-ac62-d46b4a149a71",
   "metadata": {
    "tags": []
   },
   "outputs": [],
   "source": [
    "def create_dataframe_and_assign_groups(df, column):\n",
    "    df = df.copy()\n",
    "    dictionary = corpora.Dictionary(df[column])\n",
    "    corpus = [dictionary.doc2bow(text) for text in df[column]]\n",
    "    \n",
    "    # Apply topic_modeling function\n",
    "    lda_model, topic_counts = topic_modeling(df, column)\n",
    "\n",
    "    # Get the most frequent topic for each document\n",
    "    dominant_topics = [max(topics, key=lambda x: x[1])[0] for topics in lda_model.get_document_topics(corpus)]\n",
    "\n",
    "    # Map topic numbers to topic names\n",
    "    topic_mapping = {\n",
    "        0: 'Comfortable',\n",
    "        1: 'Quiet',\n",
    "        2: 'Cozy',\n",
    "        3: 'Spacious',\n",
    "        4: 'Dutch'\n",
    "    }\n",
    "\n",
    "    # Create 'Group2' column based on the dominant topic for each document\n",
    "    df['Model_2'] = [topic_mapping[topic] for topic in dominant_topics]\n",
    "\n",
    "    return df"
   ]
  },
  {
   "cell_type": "code",
   "execution_count": null,
   "id": "a8ef00e8-d1ba-46f5-ac41-8c8840b1968a",
   "metadata": {
    "tags": []
   },
   "outputs": [],
   "source": [
    "listings_prep = create_dataframe_and_assign_groups(listings_prep, 'Complete Description')"
   ]
  },
  {
   "cell_type": "code",
   "execution_count": null,
   "id": "b062ab34-b8df-49dc-bea4-4e9e580a515d",
   "metadata": {
    "tags": []
   },
   "outputs": [],
   "source": [
    "listings_prep.head(1)"
   ]
  },
  {
   "cell_type": "markdown",
   "id": "46d959ed-f812-4a29-82a6-512331949f8f",
   "metadata": {},
   "source": [
    "## 7. K-means Clustering"
   ]
  },
  {
   "cell_type": "code",
   "execution_count": null,
   "id": "7e7b9720-94f8-4a1d-85e7-e383fadd7906",
   "metadata": {},
   "outputs": [],
   "source": [
    "def unsupervised_clustering(df, column, num_clusters=5):\n",
    "    df = df.copy()\n",
    "    # Convert lists of tokens to strings\n",
    "    df[column] = df[column].apply(lambda tokens: ' '.join(tokens))\n",
    "\n",
    "    # Vectorize the text data using TF-IDF\n",
    "    vectorizer = TfidfVectorizer()\n",
    "    X = vectorizer.fit_transform(df[column])\n",
    "\n",
    "    # Apply PCA for dimensionality reduction\n",
    "    pca = PCA(n_components=2)\n",
    "    X_reduced = pca.fit_transform(X.toarray())\n",
    "\n",
    "    # Apply K-means clustering\n",
    "    kmeans = KMeans(n_clusters=num_clusters, random_state=30)\n",
    "    kmeans.fit(X)\n",
    "\n",
    "    # Get cluster labels\n",
    "    cluster_labels = kmeans.labels_\n",
    "\n",
    "    # Map cluster labels to group names\n",
    "    group_mapping = {\n",
    "        0: 'Cozy',\n",
    "        1: 'Spacious',\n",
    "        2: 'Quiet',\n",
    "        3: 'Dutch',\n",
    "        4: 'Comfortable'\n",
    "        # Add more mappings if needed\n",
    "    }\n",
    "\n",
    "    # Assign group names based on cluster labels\n",
    "    group_names = [group_mapping[label] for label in cluster_labels]\n",
    "\n",
    "    # Add group names as a new column in the DataFrame\n",
    "    df['Model_3'] = group_names\n",
    "\n",
    "    # Get unique cluster labels and corresponding group names\n",
    "    unique_labels = sorted(set(cluster_labels))\n",
    "    legend_labels = [group_mapping[label] for label in unique_labels]\n",
    "\n",
    "    # Get unique colors from the plot (red/pink color scheme)\n",
    "    unique_colors = ['red', 'rosybrown', 'salmon', 'maroon', 'chocolate'][:num_clusters]\n",
    "\n",
    "    # Create legend handles with correct colors\n",
    "    legend_handles = [plt.Line2D([0], [0], marker='o', color='w', markerfacecolor=color, markersize=10) for color in unique_colors]\n",
    "\n",
    "    # Visualize the clusters\n",
    "    plt.figure(figsize=(8, 6))\n",
    "    for label, color in zip(unique_labels, unique_colors):\n",
    "        plt.scatter(X_reduced[cluster_labels == label, 0], X_reduced[cluster_labels == label, 1], label=group_mapping[label], color=color, alpha=0.5)\n",
    "\n",
    "    plt.legend(handles=legend_handles, labels=legend_labels, loc='best')\n",
    "    plt.title('Cluster Visualization')\n",
    "    plt.xlabel('Principal Component 1')\n",
    "    plt.ylabel('Principal Component 2')\n",
    "     # Set background color to light grey\n",
    "    plt.savefig('cluster_visualization.png', dpi=300)  # Save the figure\n",
    "\n",
    "    plt.show()\n",
    "\n",
    "    return df['Model_3'], kmeans, cluster_labels"
   ]
  },
  {
   "cell_type": "code",
   "execution_count": null,
   "id": "c6d6c913-9808-42f7-b280-8e0d3096ee48",
   "metadata": {
    "tags": []
   },
   "outputs": [],
   "source": [
    "listings_prep['Model_3'],kmeans_model, cluster_labels = unsupervised_clustering(listings_prep, 'Complete Description')"
   ]
  },
  {
   "cell_type": "code",
   "execution_count": null,
   "id": "dd65ba49-0102-4472-8fbf-8acb5fd83b39",
   "metadata": {
    "tags": []
   },
   "outputs": [],
   "source": [
    "def get_most_common_words_in_clusters(df, column, cluster_labels, num_words=10):\n",
    "    # Create a DataFrame containing the text and cluster labels\n",
    "    df_clustered = pd.DataFrame({column: df[column], 'cluster_label': cluster_labels})\n",
    "\n",
    "    # Initialize a dictionary to store the most common words in each cluster\n",
    "    most_common_words_per_cluster = {}\n",
    "\n",
    "    # Iterate over each cluster\n",
    "    for cluster_label in df_clustered['cluster_label'].unique():\n",
    "        # Filter the DataFrame to contain only the documents belonging to the current cluster\n",
    "        cluster_df = df_clustered[df_clustered['cluster_label'] == cluster_label]\n",
    "\n",
    "        # Concatenate the text from all the documents in the cluster into a single string\n",
    "        concatenated_text = ' '.join(' '.join(doc) for doc in cluster_df[column])\n",
    "\n",
    "        # Tokenize the concatenated text\n",
    "        tokens = CountVectorizer().build_tokenizer()(concatenated_text)\n",
    "\n",
    "        # Count the occurrences of each word\n",
    "        word_counts = pd.Series(tokens).value_counts()\n",
    "\n",
    "        # Get the most common words in the cluster\n",
    "        most_common_words_per_cluster[cluster_label] = word_counts.head(num_words)\n",
    "\n",
    "    return most_common_words_per_cluster\n"
   ]
  },
  {
   "cell_type": "code",
   "execution_count": null,
   "id": "ef365a07-6158-48eb-98e7-0231a8c5e481",
   "metadata": {
    "tags": []
   },
   "outputs": [],
   "source": [
    "most_common_words_in_clusters = get_most_common_words_in_clusters(listings_prep, 'Complete Description', cluster_labels)\n",
    "for cluster_label, words in most_common_words_in_clusters.items():\n",
    "    print(f\"Cluster {cluster_label}: {words}\")"
   ]
  },
  {
   "cell_type": "markdown",
   "id": "2e1b520f-31bf-498a-bed5-0d2aa67f9531",
   "metadata": {},
   "source": [
    "## 8. Advanced Filter"
   ]
  },
  {
   "cell_type": "code",
   "execution_count": null,
   "id": "642b3536-d9eb-426c-b397-412a1e85d545",
   "metadata": {
    "tags": []
   },
   "outputs": [],
   "source": [
    "listings_prep['Compare'] = listings_prep['Model_2'] == listings_prep['Model_3']"
   ]
  },
  {
   "cell_type": "code",
   "execution_count": null,
   "id": "1b1b1615-7717-4621-97cf-4ed108eb26aa",
   "metadata": {
    "tags": []
   },
   "outputs": [],
   "source": [
    "matching_count = listings_prep['Compare'].sum()\n",
    "\n",
    "# Total number of entries\n",
    "total_entries = len(listings_prep)\n",
    "\n",
    "# Calculate the percentage of matching entries\n",
    "percentage_matching = (matching_count / total_entries) * 100\n",
    "\n",
    "print(\"Percentage of matching entries:\", percentage_matching)"
   ]
  },
  {
   "cell_type": "code",
   "execution_count": null,
   "id": "d19ff7ea-58d1-455f-a781-4c2c139c6e96",
   "metadata": {
    "tags": []
   },
   "outputs": [],
   "source": [
    "listings_prep.head(1)"
   ]
  },
  {
   "cell_type": "code",
   "execution_count": null,
   "id": "34b01f4f-594f-4a39-8c1e-0cb331a38a4e",
   "metadata": {
    "tags": []
   },
   "outputs": [],
   "source": [
    "def filter_by_preferences(df):\n",
    "    filtered_df = df.copy()\n",
    "    \n",
    "    preferences = ['Quiet', 'Spacious', 'Cozy', 'Dutch', 'Comfortable']\n",
    "    selected_preferences = []\n",
    "    \n",
    "    for preference in preferences:\n",
    "        answer = input(f\"Do you prefer {preference}? (yes/no): \").lower()\n",
    "        if answer == 'yes':\n",
    "            selected_preferences.append(preference)\n",
    "    \n",
    "    if not selected_preferences:\n",
    "        print(\"No preference selected. Returning original DataFrame.\")\n",
    "        return filtered_df\n",
    "    \n",
    "    # Create a filter to check if 'Model_2' contains any of the selected preferences\n",
    "    filter_condition = filtered_df['Model_2'].isin(selected_preferences)\n",
    "    filtered_df = filtered_df[filter_condition]\n",
    "    \n",
    "    \n",
    "    return filtered_df\n"
   ]
  },
  {
   "cell_type": "code",
   "execution_count": null,
   "id": "36d70eb7-eac1-4814-892e-c356894c8eba",
   "metadata": {
    "tags": []
   },
   "outputs": [],
   "source": [
    "filtered_df = filter_by_preferences(listings_prep);\n",
    "filtered_df.head()\n"
   ]
  },
  {
   "cell_type": "code",
   "execution_count": null,
   "id": "2218c668-3c4f-4adc-8dda-b8c2c3ffc8db",
   "metadata": {
    "tags": []
   },
   "outputs": [],
   "source": [
    "listings_prep_copy = listings_prep"
   ]
  },
  {
   "cell_type": "code",
   "execution_count": null,
   "id": "f43dcb0a-5e40-46b2-bb56-81d66e33a77b",
   "metadata": {
    "tags": []
   },
   "outputs": [],
   "source": [
    "df_scores"
   ]
  },
  {
   "cell_type": "code",
   "execution_count": null,
   "id": "a35ee638-1b41-404a-8cb8-0630e1f40562",
   "metadata": {
    "tags": []
   },
   "outputs": [],
   "source": [
    "# merged_df = listings_prep_copy.merge(df_scores[['listing_id', 'Dirty_category']], how='left', left_on='id', right_on='listing_id')\n",
    "\n",
    "# # Drop the duplicate 'id' column\n",
    "# merged_df.drop(columns='listing_id', inplace=True)\n",
    "# # Not all listings have reviews so fill score with 0.\n",
    "# merged_df.fillna(0)"
   ]
  },
  {
   "cell_type": "code",
   "execution_count": null,
   "id": "6bbd8743-b087-4e3b-9819-d5a285d8c0d2",
   "metadata": {
    "tags": []
   },
   "outputs": [],
   "source": [
    "merged_df['Dirty_category'] = merged_df['Dirty_category'].astype('category')\n",
    "\n",
    "# Then, set the categories explicitly\n",
    "merged_df['Dirty_category'] = merged_df['Dirty_category'].cat.add_categories([0])\n",
    "\n",
    "# Now you can fill missing values with the new category\n",
    "merged_df['Dirty_category'].fillna(0, inplace=True)"
   ]
  },
  {
   "cell_type": "code",
   "execution_count": null,
   "id": "334562da-a4d0-4ae1-b35b-97a294bbc532",
   "metadata": {
    "tags": []
   },
   "outputs": [],
   "source": [
    "def filter_by_preferences2(df):\n",
    "    filtered_df = df.copy()\n",
    "    \n",
    "    # Original preferences\n",
    "    preferences = ['Quiet', 'Spacious', 'Cozy', 'Dutch', 'Comfortable']\n",
    "    selected_preferences = []\n",
    "    \n",
    "    for preference in preferences:\n",
    "        answer = input(f\"Do you prefer {preference}? (yes/no): \").lower()\n",
    "        if answer == 'yes':\n",
    "            selected_preferences.append(preference)\n",
    "    \n",
    "    # Dirty categories\n",
    "    labels = ['Very Clean', 'Slightly dirty', 'Dirty', 'Avoid at all costs']\n",
    "    selected_labels = []\n",
    "    \n",
    "    for label in labels:\n",
    "        answer = input(f\"Do you prefer {label}? (yes/no): \").lower()\n",
    "        if answer == 'yes':\n",
    "            selected_labels.append(label)\n",
    "    \n",
    "    if not selected_preferences and not selected_labels:\n",
    "        print(\"No preference selected. Returning original DataFrame.\")\n",
    "        return filtered_df\n",
    "    \n",
    "    # Create filters based on preferences and dirty categories\n",
    "    preference_filter = filtered_df['Model_2'].isin(selected_preferences)\n",
    "    label_filter = filtered_df['Dirty_category'].isin(selected_labels)\n",
    "    \n",
    "    # Apply filters\n",
    "    if selected_preferences and selected_labels:\n",
    "        filtered_df = filtered_df[preference_filter & label_filter]\n",
    "    elif selected_preferences:\n",
    "        filtered_df = filtered_df[preference_filter]\n",
    "    elif selected_labels:\n",
    "        filtered_df = filtered_df[label_filter]\n",
    "    \n",
    "    return filtered_df"
   ]
  },
  {
   "cell_type": "code",
   "execution_count": null,
   "id": "7c8f0815-848a-4224-bd16-00ee4ef2839e",
   "metadata": {
    "tags": []
   },
   "outputs": [],
   "source": [
    "filtered_df2 = filter_by_preferences2(merged_df);\n",
    "filtered_df2.head()"
   ]
  },
  {
   "cell_type": "code",
   "execution_count": null,
   "id": "9a2dba2a-641d-46d2-8c6e-16dfb18a20b7",
   "metadata": {},
   "outputs": [],
   "source": []
  }
 ],
 "metadata": {
  "kernelspec": {
   "display_name": "Python 3 (ipykernel)",
   "language": "python",
   "name": "python3"
  },
  "language_info": {
   "codemirror_mode": {
    "name": "ipython",
    "version": 3
   },
   "file_extension": ".py",
   "mimetype": "text/x-python",
   "name": "python",
   "nbconvert_exporter": "python",
   "pygments_lexer": "ipython3",
   "version": "3.11.5"
  }
 },
 "nbformat": 4,
 "nbformat_minor": 5
}
